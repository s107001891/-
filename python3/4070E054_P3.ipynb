{
  "nbformat": 4,
  "nbformat_minor": 0,
  "metadata": {
    "colab": {
      "name": "4070E054_P3.ipynb",
      "version": "0.3.2",
      "provenance": [],
      "include_colab_link": true
    },
    "kernelspec": {
      "name": "python3",
      "display_name": "Python 3"
    }
  },
  "cells": [
    {
      "cell_type": "markdown",
      "metadata": {
        "id": "view-in-github",
        "colab_type": "text"
      },
      "source": [
        "<a href=\"https://colab.research.google.com/github/s107001891/-/blob/master/python3/4070E054_P3.ipynb\" target=\"_parent\"><img src=\"https://colab.research.google.com/assets/colab-badge.svg\" alt=\"Open In Colab\"/></a>"
      ]
    },
    {
      "metadata": {
        "id": "qPiTi97gCEY0",
        "colab_type": "code",
        "colab": {}
      },
      "cell_type": "code",
      "source": [
        "# Display two messages\n",
        "print(\"Welcome to Python\")\n",
        "print(\"Python is fun\")\n"
      ],
      "execution_count": 0,
      "outputs": []
    },
    {
      "metadata": {
        "id": "rufT36HTCQst",
        "colab_type": "text"
      },
      "cell_type": "markdown",
      "source": [
        "我的作業1.1\n"
      ]
    },
    {
      "metadata": {
        "id": "a-BGEJRSCY6p",
        "colab_type": "code",
        "colab": {}
      },
      "cell_type": "code",
      "source": [
        "# Display three messages\n",
        "print(\"Welcome to Python\")\n",
        "print(\"Python is fun\")\n",
        "print(\"Problem Driven\")  \n"
      ],
      "execution_count": 0,
      "outputs": []
    },
    {
      "metadata": {
        "id": "q3GFGcuLCgIr",
        "colab_type": "text"
      },
      "cell_type": "markdown",
      "source": [
        "我的作業1.2\n"
      ]
    },
    {
      "metadata": {
        "id": "g-R-kpDfCh1k",
        "colab_type": "code",
        "colab": {}
      },
      "cell_type": "code",
      "source": [
        "# Compute expression\n",
        "print((10.5 + 2 * 3) / (45 � 3.5))\n"
      ],
      "execution_count": 0,
      "outputs": []
    },
    {
      "metadata": {
        "id": "2DQZqh8NCr4Y",
        "colab_type": "text"
      },
      "cell_type": "markdown",
      "source": [
        "我的作業1.3"
      ]
    },
    {
      "metadata": {
        "id": "CvoNVKFdCs8I",
        "colab_type": "code",
        "colab": {}
      },
      "cell_type": "code",
      "source": [
        "# Convert Fahrenheit to Celsius\n",
        "print(\"Fahrenheit 35 is Celsius degree \")\n",
        "print(5 / 9 * (35 - 32))\n"
      ],
      "execution_count": 0,
      "outputs": []
    },
    {
      "metadata": {
        "id": "u3WM0sYUCy5r",
        "colab_type": "text"
      },
      "cell_type": "markdown",
      "source": [
        "我的作業1.4"
      ]
    },
    {
      "metadata": {
        "id": "c1xDVRV9C4DN",
        "colab_type": "code",
        "colab": {}
      },
      "cell_type": "code",
      "source": [
        "import turtle\n",
        "\n",
        "turtle.color(\"blue\")\n",
        "turtle.penup()\n",
        "turtle.goto(-110, -25)\n",
        "turtle.pendown()\n",
        "turtle.circle(45)\n",
        "\n",
        "turtle.color(\"black\")\n",
        "turtle.penup()\n",
        "turtle.goto(0, -25)\n",
        "turtle.pendown()\n",
        "turtle.circle(45)\n",
        "\n",
        "turtle.color(\"red\")\n",
        "turtle.penup()\n",
        "turtle.goto(110, -25)\n",
        "turtle.pendown()\n",
        "turtle.circle(45)\n",
        "\n",
        "turtle.color(\"yellow\")\n",
        "turtle.penup()\n",
        "turtle.goto(-55, -75)\n",
        "turtle.pendown()\n",
        "turtle.circle(45)\n",
        "\n",
        "turtle.color(\"green\")\n",
        "turtle.penup()\n",
        "turtle.goto(55, -75)\n",
        "turtle.pendown()\n",
        "turtle.circle(45)\n",
        "\n",
        "turtle.done() "
      ],
      "execution_count": 0,
      "outputs": []
    },
    {
      "metadata": {
        "id": "Ov7NjZQVC5w1",
        "colab_type": "text"
      },
      "cell_type": "markdown",
      "source": [
        "我的作業1.5"
      ]
    },
    {
      "metadata": {
        "id": "s33IsDD0C7L9",
        "colab_type": "code",
        "colab": {}
      },
      "cell_type": "code",
      "source": [
        "# Assign a radius\n",
        "radius = 20 # radius is now 20\n",
        "\n",
        "# Compute area\n",
        "area = radius * radius * 3.14159\n",
        "\n",
        "# Display results\n",
        "print(\"The area for the circle of radius\", radius, \"is\", area)"
      ],
      "execution_count": 0,
      "outputs": []
    },
    {
      "metadata": {
        "id": "ztabq9tXDCfY",
        "colab_type": "text"
      },
      "cell_type": "markdown",
      "source": [
        "我的作業2.1"
      ]
    },
    {
      "metadata": {
        "id": "y73UFeuCDEOx",
        "colab_type": "code",
        "colab": {}
      },
      "cell_type": "code",
      "source": [
        "# Prompt the user to enter a radius\n",
        "radius = eval(input(\"Enter a number for radius: \"))\n",
        "\n",
        "# Compute area\n",
        "area = radius * radius * 3.14159\n",
        "\n",
        "# Display results\n",
        "print(\"The area for the circle of radius\", radius, \"is\", area)\n"
      ],
      "execution_count": 0,
      "outputs": []
    },
    {
      "metadata": {
        "id": "Ns5iO-lJDJ6E",
        "colab_type": "text"
      },
      "cell_type": "markdown",
      "source": [
        "我的作業2.2"
      ]
    },
    {
      "metadata": {
        "id": "nf-8v5fWDKr7",
        "colab_type": "code",
        "colab": {}
      },
      "cell_type": "code",
      "source": [
        "# Prompt the user to enter three numbers\n",
        "number1 = eval(input(\"Enter the first number: \"))\n",
        "number2 = eval(input(\"Enter the second number: \"))\n",
        "number3 = eval(input(\"Enter the third number: \"))\n",
        "\n",
        "# Compute average\n",
        "average = (number1 + number2 + number3) / 3\n",
        "\n",
        "# Display result\n",
        "print(\"The average of\", number1, number2, number3, \n",
        "    \"is\", average)\n"
      ],
      "execution_count": 0,
      "outputs": []
    },
    {
      "metadata": {
        "id": "O4efwTXGDQu1",
        "colab_type": "text"
      },
      "cell_type": "markdown",
      "source": [
        "我的作業2.3"
      ]
    },
    {
      "metadata": {
        "id": "aG0rK_ztDQQe",
        "colab_type": "code",
        "colab": {}
      },
      "cell_type": "code",
      "source": [
        "# Prompt the user to enter three numbers\n",
        "number1, number2, number3 = eval(input(\n",
        "  \"Enter three numbers separated by commas: \"))\n",
        "\n",
        "# Compute average\n",
        "average = (number1 + number2 + number3) / 3\n",
        "\n",
        "# Display result\n",
        "print(\"The average of\", number1, number2, number3,\n",
        "    \"is\", average)\n"
      ],
      "execution_count": 0,
      "outputs": []
    },
    {
      "metadata": {
        "id": "T2BPSzIRDXza",
        "colab_type": "text"
      },
      "cell_type": "markdown",
      "source": [
        "我的作業2.4"
      ]
    },
    {
      "metadata": {
        "id": "yJqXiNBQDaPa",
        "colab_type": "code",
        "colab": {}
      },
      "cell_type": "code",
      "source": [
        "# Prompt the user for input\n",
        "seconds = eval(input(\"Enter an integer for seconds: \"))\n",
        "\n",
        "# Get minutes and remaining seconds\n",
        "minutes = seconds // 60     # Find minutes in seconds\n",
        "remainingSeconds = seconds % 60   # Seconds remaining\n",
        "print(seconds, \"seconds is\", minutes,  \n",
        "  \"minutes and\", remainingSeconds, \"seconds\")\n"
      ],
      "execution_count": 0,
      "outputs": []
    },
    {
      "metadata": {
        "id": "14vz6VKpDejb",
        "colab_type": "text"
      },
      "cell_type": "markdown",
      "source": [
        "我的作業2.5"
      ]
    },
    {
      "metadata": {
        "id": "dc_Wz5lVDfYk",
        "colab_type": "code",
        "colab": {}
      },
      "cell_type": "code",
      "source": [
        "# Prompt the user for input\n",
        "purchaseAmount = eval(input(\"Enter purchase amount: \"))\n",
        "\n",
        "# Compute sales tax\n",
        "tax = purchaseAmount * 0.06\n",
        "\n",
        "# Display tax amount with two digits after decimal point\n",
        "print(\"Sales tax is\", int(tax * 100) / 100.0)\n"
      ],
      "execution_count": 0,
      "outputs": []
    },
    {
      "metadata": {
        "id": "avMhp6LXDncG",
        "colab_type": "text"
      },
      "cell_type": "markdown",
      "source": [
        "我的作業2.6"
      ]
    },
    {
      "metadata": {
        "id": "6vT3LvcqDnKm",
        "colab_type": "code",
        "colab": {}
      },
      "cell_type": "code",
      "source": [
        "import time\n",
        "\n",
        "currentTime = time.time() # Get current time\n",
        "\n",
        "# Obtain the total seconds since midnight, Jan 1, 1970\n",
        "totalSeconds = int(currentTime)\n",
        "\n",
        "# Get the current second \n",
        "currentSecond = totalSeconds % 60 \n",
        "\n",
        "# Obtain the total minutes\n",
        "totalMinutes = totalSeconds // 60 \n",
        "\n",
        "# Compute the current minute in the hour\n",
        "currentMinute = totalMinutes % 60\n",
        "\n",
        "# Obtain the total hours\n",
        "totalHours = totalMinutes // 60\n",
        "\n",
        "# Compute the current hour\n",
        "currentHour = totalHours % 24\n",
        "\n",
        "# Display results\n",
        "print(\"Current time is \" + str(currentHour) + \":\"\n",
        "    + str(currentMinute) + \":\" + str(currentSecond) + \" GMT\")"
      ],
      "execution_count": 0,
      "outputs": []
    },
    {
      "metadata": {
        "id": "X1ZCX0ZIDseQ",
        "colab_type": "text"
      },
      "cell_type": "markdown",
      "source": [
        "我的作業2.7"
      ]
    },
    {
      "metadata": {
        "id": "EXTdLhsKDuBC",
        "colab_type": "code",
        "colab": {}
      },
      "cell_type": "code",
      "source": [
        "# Enter yearly interest rate\n",
        "annualInterestRate = eval(input(\n",
        "  \"Enter annual interest rate, e.g., 8.25: \"))\n",
        "monthlyInterestRate = annualInterestRate / 1200\n",
        "\n",
        "# Enter number of years\n",
        "numberOfYears = eval(input(\n",
        "  \"Enter number of years as an integer, e.g., 5: \"))\n",
        "    \n",
        "# Enter loan amount\n",
        "loanAmount = eval(input(\"Enter loan amount, e.g., 120000.95: \"))\n",
        "    \n",
        "# Calculate payment\n",
        "monthlyPayment = loanAmount * monthlyInterestRate / (1\n",
        "  - 1 / (1 + monthlyInterestRate) ** (numberOfYears * 12))\n",
        "totalPayment = monthlyPayment * numberOfYears * 12\n",
        "\n",
        "# Display results\n",
        "print(\"The monthly payment is\", int(monthlyPayment * 100) / 100)\n",
        "print(\"The total payment is\", int(totalPayment * 100) /100)\n"
      ],
      "execution_count": 0,
      "outputs": []
    },
    {
      "metadata": {
        "id": "c2Xr_DB-D2Az",
        "colab_type": "text"
      },
      "cell_type": "markdown",
      "source": [
        "我的作業2.8"
      ]
    },
    {
      "metadata": {
        "id": "HKWmql40D3N8",
        "colab_type": "code",
        "colab": {}
      },
      "cell_type": "code",
      "source": [
        "# Enter the first point with two double values\n",
        "x1, y1 = eval(input(\"Enter x1 and y1: \"))\n",
        "\n",
        "# Enter the second point with two double values\n",
        "x2, y2 = eval(input(\"Enter x2 and y2: \"))\n",
        " \n",
        "# Compute the distance\n",
        "distance = ((x1 - x2) * (x1 - x2) + (y1 - y2) * (y1 - y2)) ** 0.5\n",
        "    \n",
        "print(\"The distance between the two points is\", distance) \n"
      ],
      "execution_count": 0,
      "outputs": []
    },
    {
      "metadata": {
        "id": "TmdUM2qgD9Nn",
        "colab_type": "text"
      },
      "cell_type": "markdown",
      "source": [
        "我的作業2.9"
      ]
    },
    {
      "metadata": {
        "id": "cJzS3WaDD-Om",
        "colab_type": "code",
        "colab": {}
      },
      "cell_type": "code",
      "source": [
        "import turtle\n",
        "\n",
        "# Prompt the user for inputing two points\n",
        "x1, y1 = eval(input(\"Enter x1 and y1 for Point 1: \"))\n",
        "x2, y2 = eval(input(\"Enter x2 and y2 for Point 2: \"))\n",
        "              \n",
        "# Compute the distance\n",
        "distance = ((x1 - x2) ** 2 + (y1 - y2) ** 2) ** 0.5\n",
        "\n",
        "# Display two points and the connecting line\n",
        "turtle.penup()\n",
        "turtle.goto(x1, y1) # Move to (x1, y1)\n",
        "turtle.pendown()\n",
        "turtle.write(\"Point 1\") \n",
        "turtle.goto(x2, y2) # draw a line to (x2, y2)\n",
        "turtle.write(\"Point 2\")\n",
        "\n",
        "# Move to the center point of the line\n",
        "turtle.penup()\n",
        "turtle.goto((x1 + x2) / 2, (y1 + y2) / 2) \n",
        "turtle.write(distance)\n",
        "\n",
        "turtle.done() "
      ],
      "execution_count": 0,
      "outputs": []
    },
    {
      "metadata": {
        "id": "yM80OW6uEBDh",
        "colab_type": "text"
      },
      "cell_type": "markdown",
      "source": [
        "我的作業2.10"
      ]
    },
    {
      "metadata": {
        "id": "ICVY7QzbECoC",
        "colab_type": "code",
        "colab": {}
      },
      "cell_type": "code",
      "source": [
        "import math # import Math module to use the math functions\n",
        " \n",
        "# Test algebraic functions\n",
        "print(\"exp(1.0) =\", math.exp(1))\n",
        "print(\"log(3.78) =\", math.log(math.e))\n",
        "print(\"log10(10, 10) =\", math.log(10, 10))\n",
        "print(\"sqrt(4.0) =\", math.sqrt(4.0))\n",
        " \n",
        "# Test trigonometric functions\n",
        "print(\"sin(PI / 2) =\", math.sin(math.pi / 2))\n",
        "print(\"cos(PI / 2) =\", math.cos(math.pi / 2))\n",
        "print(\"tan(PI / 2) =\", math.tan(math.pi / 2))\n",
        "print(\"degrees(1.57) =\", math.degrees(1.57))\n",
        "print(\"radians(90) =\", math.radians(90))\n"
      ],
      "execution_count": 0,
      "outputs": []
    },
    {
      "metadata": {
        "id": "Lw2ZvnEGEV9I",
        "colab_type": "text"
      },
      "cell_type": "markdown",
      "source": [
        "我的作業3.1"
      ]
    },
    {
      "metadata": {
        "id": "PuvFVTcCEYZ6",
        "colab_type": "code",
        "colab": {}
      },
      "cell_type": "code",
      "source": [
        "import math\n",
        "\n",
        "x1, y1, x2, y2, x3, y3 = eval(input(\"Enter six coordinates of three points \\\n",
        "separated by commas like x1, y1, x2, y2, x3, y3: \"))\n",
        " \n",
        "a = math.sqrt((x2 - x3) * (x2 - x3) + (y2 - y3) * (y2 - y3))\n",
        "b = math.sqrt((x1 - x3) * (x1 - x3) + (y1 - y3) * (y1 - y3))\n",
        "c = math.sqrt((x1 - x2) * (x1 - x2) + (y1 - y2) * (y1 - y2))\n",
        "\n",
        "A = math.degrees(math.acos((a * a - b * b - c * c) / (-2 * b * c)))\n",
        "B = math.degrees(math.acos((b * b - a * a - c * c) / (-2 * a * c)))\n",
        "C = math.degrees(math.acos((c * c - b * b - a * a) / (-2 * a * b)))\n",
        "\n",
        "print(\"The three angles are \", round(A * 100) / 100.0,  \n",
        "    round(B * 100) / 100.0, round(C * 100) / 100.0)\n",
        "\n",
        "\n"
      ],
      "execution_count": 0,
      "outputs": []
    },
    {
      "metadata": {
        "id": "fn9Mv98qEeh0",
        "colab_type": "text"
      },
      "cell_type": "markdown",
      "source": [
        "我的作業3.2\n"
      ]
    },
    {
      "metadata": {
        "id": "utNigBJ-Efnk",
        "colab_type": "code",
        "colab": {}
      },
      "cell_type": "code",
      "source": [
        "import turtle\n",
        "\n",
        "turtle.write(\"\\u6B22\\u8FCE \\u03b1 \\u03b2 \\u03b3\")\n",
        "\n",
        "turtle.done() \n"
      ],
      "execution_count": 0,
      "outputs": []
    },
    {
      "metadata": {
        "id": "GHcdQaO3Ekve",
        "colab_type": "text"
      },
      "cell_type": "markdown",
      "source": [
        "我的作業3.3"
      ]
    },
    {
      "metadata": {
        "id": "o20EEgBgElwO",
        "colab_type": "code",
        "colab": {}
      },
      "cell_type": "code",
      "source": [
        "# Receive the amount \n",
        "amount = eval(input(\"Enter an amount in double, e.g., 11.56: \"))\n",
        "\n",
        "# Convert the amount to cents\n",
        "remainingAmount = int(amount * 100)\n",
        "\n",
        "# Find the number of one dollars\n",
        "numberOfOneDollars = int(remainingAmount / 100)\n",
        "remainingAmount = int(remainingAmount % 100)\n",
        "\n",
        "# Find the number of quarters in the remaining amount\n",
        "numberOfQuarters = int(remainingAmount / 25)\n",
        "remainingAmount = remainingAmount % 25\n",
        "\n",
        "# Find the number of dimes in the remaining amount\n",
        "numberOfDimes = int(remainingAmount / 10)\n",
        "remainingAmount = remainingAmount % 10\n",
        "\n",
        "# Find the number of nickels in the remaining amount\n",
        "numberOfNickels = int(remainingAmount / 5)\n",
        "remainingAmount = remainingAmount % 5\n",
        "\n",
        "# Find the number of pennies in the remaining amount\n",
        "numberOfPennies = remainingAmount\n",
        "\n",
        "# Display results\n",
        "print(\"Your amount\", amount, \"consists of\\n\", \n",
        "    \"\\t\", numberOfOneDollars, \"dollars\\n\", \n",
        "    \"\\t\", numberOfQuarters, \"quarters\\n\",\n",
        "    \"\\t\", numberOfDimes,  \"dimes\\n\",\n",
        "    \"\\t\", numberOfNickels, \"nickels\\n\",\n",
        "    \"\\t\", numberOfPennies, \"pennies\")\n",
        "\n"
      ],
      "execution_count": 0,
      "outputs": []
    },
    {
      "metadata": {
        "id": "8tdi4YWcEwtS",
        "colab_type": "text"
      },
      "cell_type": "markdown",
      "source": [
        "我的作業3.4"
      ]
    },
    {
      "metadata": {
        "id": "84VaavbhEwSL",
        "colab_type": "code",
        "colab": {}
      },
      "cell_type": "code",
      "source": [
        "import turtle\n",
        "\n",
        "turtle.pensize(3)\n",
        "turtle.penup()\n",
        "turtle.goto(-200, -50)\n",
        "turtle.pendown()\n",
        "turtle.circle(40, steps = 3) # Draw a triangle\n",
        "\n",
        "turtle.penup()\n",
        "turtle.goto(-100, -50)\n",
        "turtle.pendown()\n",
        "turtle.circle(40, steps = 4) # Draw a square\n",
        "\n",
        "turtle.penup()\n",
        "turtle.goto(0, -50)\n",
        "turtle.pendown()\n",
        "turtle.circle(40, steps = 5) # Draw a pentagon\n",
        "\n",
        "turtle.penup()\n",
        "turtle.goto(100, -50)\n",
        "turtle.pendown()\n",
        "turtle.circle(40, steps = 6) # Draw a hexagon\n",
        "\n",
        "turtle.penup()\n",
        "turtle.goto(200, -50)\n",
        "turtle.pendown()\n",
        "turtle.circle(40) # Draw a circle\n",
        "\n",
        "turtle.done() "
      ],
      "execution_count": 0,
      "outputs": []
    },
    {
      "metadata": {
        "id": "5WWqXedfE-sg",
        "colab_type": "text"
      },
      "cell_type": "markdown",
      "source": [
        "我的作業3.5"
      ]
    }
  ]
}